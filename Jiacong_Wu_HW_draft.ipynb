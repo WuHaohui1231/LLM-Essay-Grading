{
  "nbformat": 4,
  "nbformat_minor": 0,
  "metadata": {
    "colab": {
      "provenance": []
    },
    "kernelspec": {
      "name": "python3",
      "display_name": "Python 3"
    },
    "language_info": {
      "name": "python"
    }
  },
  "cells": [
    {
      "cell_type": "code",
      "execution_count": 1,
      "metadata": {
        "id": "WdEzl23inrK5"
      },
      "outputs": [],
      "source": [
        "import torch.nn as nn\n",
        "import torch.nn.functional as F\n",
        "import torch\n",
        "import numpy as np\n",
        "import math\n"
      ]
    },
    {
      "cell_type": "code",
      "source": [
        "L = 4. #length\n",
        "N = 1. #batch\n",
        "E = 512 # dimension\n",
        "input = torch.randn([L, N, E])"
      ],
      "metadata": {
        "id": "AYUKBxd2nutZ"
      },
      "execution_count": 17,
      "outputs": []
    },
    {
      "cell_type": "code",
      "source": [
        "input.size()"
      ],
      "metadata": {
        "colab": {
          "base_uri": "https://localhost:8080/"
        },
        "id": "Nnz3HesQoES4",
        "outputId": "11d4808e-f0f6-425d-f6c9-281e3a5c8d45"
      },
      "execution_count": 18,
      "outputs": [
        {
          "output_type": "execute_result",
          "data": {
            "text/plain": [
              "torch.Size([4, 1, 512])"
            ]
          },
          "metadata": {},
          "execution_count": 18
        }
      ]
    },
    {
      "cell_type": "code",
      "source": [
        "qkv_layer = nn.Linear(E, 3*E)"
      ],
      "metadata": {
        "id": "T2-WgE1OoSz1"
      },
      "execution_count": 19,
      "outputs": []
    },
    {
      "cell_type": "code",
      "source": [
        "qkv = qkv_layer(input)"
      ],
      "metadata": {
        "id": "KKkGCDGpoinp"
      },
      "execution_count": 20,
      "outputs": []
    },
    {
      "cell_type": "code",
      "source": [
        "qkv.shape"
      ],
      "metadata": {
        "colab": {
          "base_uri": "https://localhost:8080/"
        },
        "id": "lsjCG-jUo8LV",
        "outputId": "1be7afd6-6d88-4373-dabb-5919d9bcebd1"
      },
      "execution_count": 21,
      "outputs": [
        {
          "output_type": "execute_result",
          "data": {
            "text/plain": [
              "torch.Size([4, 1, 1536])"
            ]
          },
          "metadata": {},
          "execution_count": 21
        }
      ]
    },
    {
      "cell_type": "code",
      "source": [
        "head_num = 8\n",
        "head_dim = E // head_num"
      ],
      "metadata": {
        "id": "tlyUmXjapCGs"
      },
      "execution_count": 22,
      "outputs": []
    },
    {
      "cell_type": "code",
      "source": [
        "qkv = qkv.reshape(L, N, head_num, 3 * head_dim)"
      ],
      "metadata": {
        "id": "f6xyzm3fpO3G"
      },
      "execution_count": 23,
      "outputs": []
    },
    {
      "cell_type": "code",
      "source": [
        "qkv.shape"
      ],
      "metadata": {
        "colab": {
          "base_uri": "https://localhost:8080/"
        },
        "id": "h9IbjFx8pnUG",
        "outputId": "b2e851a4-c222-4aed-b568-93b1bb27e613"
      },
      "execution_count": 24,
      "outputs": [
        {
          "output_type": "execute_result",
          "data": {
            "text/plain": [
              "torch.Size([4, 1, 8, 192])"
            ]
          },
          "metadata": {},
          "execution_count": 24
        }
      ]
    },
    {
      "cell_type": "code",
      "source": [
        "qkv = qkv.permute(2,1,0,3) #[num_head, batch_num, length, 3*head_dim]\n",
        "qkv.shape"
      ],
      "metadata": {
        "colab": {
          "base_uri": "https://localhost:8080/"
        },
        "id": "l5ApMfHupp8D",
        "outputId": "e1ac9670-a334-431e-9081-b47f370cc392"
      },
      "execution_count": 25,
      "outputs": [
        {
          "output_type": "execute_result",
          "data": {
            "text/plain": [
              "torch.Size([8, 1, 4, 192])"
            ]
          },
          "metadata": {},
          "execution_count": 25
        }
      ]
    },
    {
      "cell_type": "code",
      "source": [
        "q, k, v = qkv.chunk(3, dim = -1)"
      ],
      "metadata": {
        "id": "xzettyt1qUuT"
      },
      "execution_count": 26,
      "outputs": []
    },
    {
      "cell_type": "code",
      "source": [
        "def attention(query, key, value, mask = None):\n",
        "    d_k = query.size(-1)\n",
        "    scaled = torch.matmul(query, key.transpose(-2,-1))/math.sqrt(d_k)\n",
        "    attention = F.softmax(scaled, dim = -1)\n",
        "    return torch.matmul(attention, value), attention"
      ],
      "metadata": {
        "id": "sagU_gyZrZmu"
      },
      "execution_count": 28,
      "outputs": []
    },
    {
      "cell_type": "code",
      "source": [
        "values, attenion = attention(q, k, v)"
      ],
      "metadata": {
        "id": "jfdcsZ3Drd7o"
      },
      "execution_count": 29,
      "outputs": []
    },
    {
      "cell_type": "code",
      "source": [
        "values.shape"
      ],
      "metadata": {
        "colab": {
          "base_uri": "https://localhost:8080/"
        },
        "id": "hD8MG92vsYM0",
        "outputId": "ecb515ac-50bd-4f0d-c7f6-987d3ef61da2"
      },
      "execution_count": 30,
      "outputs": [
        {
          "output_type": "execute_result",
          "data": {
            "text/plain": [
              "torch.Size([8, 1, 4, 64])"
            ]
          },
          "metadata": {},
          "execution_count": 30
        }
      ]
    },
    {
      "cell_type": "code",
      "source": [
        "values = values.reshape(L, N, head_num * head_dim)"
      ],
      "metadata": {
        "id": "ttyeEyEdsdUr"
      },
      "execution_count": 32,
      "outputs": []
    },
    {
      "cell_type": "code",
      "source": [
        "values.shape"
      ],
      "metadata": {
        "colab": {
          "base_uri": "https://localhost:8080/"
        },
        "id": "Zu-KG0_wtqFD",
        "outputId": "cd84e65c-b279-4c92-c373-79343e0a2c83"
      },
      "execution_count": 33,
      "outputs": [
        {
          "output_type": "execute_result",
          "data": {
            "text/plain": [
              "torch.Size([4, 1, 512])"
            ]
          },
          "metadata": {},
          "execution_count": 33
        }
      ]
    },
    {
      "cell_type": "code",
      "source": [
        "final_linear_layer = nn.Linear(E,E)\n",
        "out = final_linear_layer(values)"
      ],
      "metadata": {
        "id": "ZIR4vNcYtu5N"
      },
      "execution_count": 35,
      "outputs": []
    },
    {
      "cell_type": "code",
      "source": [
        "out.shape"
      ],
      "metadata": {
        "colab": {
          "base_uri": "https://localhost:8080/"
        },
        "id": "8LGMfBgPt_Xc",
        "outputId": "511dde62-546c-47ea-df88-071721562765"
      },
      "execution_count": 37,
      "outputs": [
        {
          "output_type": "execute_result",
          "data": {
            "text/plain": [
              "torch.Size([4, 1, 512])"
            ]
          },
          "metadata": {},
          "execution_count": 37
        }
      ]
    },
    {
      "cell_type": "code",
      "source": [
        "\n"
      ],
      "metadata": {
        "id": "iOWaEEqauHBg"
      },
      "execution_count": null,
      "outputs": []
    },
    {
      "cell_type": "code",
      "source": [
        "def multi_head_self_attention(input, num_heads, attn_w, output_w):\n",
        "\n",
        "    \"\"\"\n",
        "    TODO: Your implementation for the multihead attention function.\n",
        "    We assume the input and the output have the same shape.\n",
        "    input: the input with shape [L, N, E],\n",
        "         L is the sequence length,\n",
        "         N is the batch size,\n",
        "         E is the embedding dimension.\n",
        "\n",
        "    num_heads: number of the attention heads each with dimension E // num_heads.\n",
        "\n",
        "    attn_w: the weight for the query, key, and value, with shape [3 * E, E].\n",
        "    output_w: the additional linear layer with shape [E, E].\n",
        "    \"\"\"\n",
        "    length = input.size(0)#L\n",
        "    print(f\"length {length}\")\n",
        "    batch_size = input.size(1)# N\n",
        "    print(f\"batch {batch_size}\")\n",
        "    emb_dim = input.size(-1) # E\n",
        "    print(f\"emb_dim {emb_dim}\")\n",
        "    d_k = emb_dim//num_heads\n",
        "    print(f\"head_dim {d_k}\")\n",
        "\n",
        "    q_layer = nn.Linear(emb_dim,  emb_dim)\n",
        "    k_layer = nn.Linear(emb_dim,  emb_dim)\n",
        "    v_layer = nn.Linear(emb_dim,  emb_dim)\n",
        "    q = q_layer(input)\n",
        "    k = k_layer(input)\n",
        "    v = v_layer(input)\n",
        "    qkv = torch.cat((q,k,v), dim = -1) # shape[4,1,12]\n",
        "    print(qkv.shape)\n",
        "    #qkv = torch.matmul(qkv, attn_w) # shape [4,1,4]\n",
        "    qkv = qkv.reshape(length, batch_size, num_heads, 3*d_k)\n",
        "    print(qkv.shape)\n",
        "    qkv = qkv.permute(2,1,0,3)  #[num_head, batch_num, length, 3*head_dim]\n",
        "    q, k, v = qkv.chunk(3, dim = -1)\n",
        "\n",
        "    print(f\"q shape {q.shape}\")\n",
        "    print(f\"k shape {k.shape}\")\n",
        "    print(f\"v shape {v.shape}\")\n",
        "    '''\n",
        "    q = torch.matmul(q, attn_w[:emb_dim, :emb_dim])\n",
        "    k = torch.matmul(k, attn_w[emb_dim:(emb_dim*2), :emb_dim])\n",
        "    v = torch.matmul(v, attn_w[(emb_dim*2):, :emb_dim])'''\n",
        "\n",
        "\n",
        "    values, attenion = attention(q, k, v)\n",
        "    values = values.reshape(length, batch_size, num_heads * d_k)\n",
        "    final_linear_layer = nn.Linear(emb_dim, emb_dim)\n",
        "    out = torch.matmul(final_linear_layer(values), output_w)\n",
        "    return out\n",
        "\n"
      ],
      "metadata": {
        "id": "QYZkWgr8uPCz"
      },
      "execution_count": 95,
      "outputs": []
    },
    {
      "cell_type": "code",
      "source": [
        "def multi_head_self_attention(input, num_heads, attn_w, output_w):\n",
        "\n",
        "    \"\"\"\n",
        "    TODO: Your implementation for the multihead attention function.\n",
        "    We assume the input and the output have the same shape.\n",
        "    input: the input with shape [L, N, E],\n",
        "         L is the sequence length,\n",
        "         N is the batch size,\n",
        "         E is the embedding dimension.\n",
        "\n",
        "    num_heads: number of the attention heads each with dimension E // num_heads.\n",
        "\n",
        "    attn_w: the weight for the query, key, and value, with shape [3 * E, E].\n",
        "    output_w: the additional linear layer with shape [E, E].\n",
        "    \"\"\"\n",
        "    length = input.size(0)#L\n",
        "    print(f\"length {length}\")\n",
        "    batch_size = input.size(1)# N\n",
        "    print(f\"batch {batch_size}\")\n",
        "    emb_dim = input.size(-1) # E\n",
        "    print(f\"emb_dim {emb_dim}\")\n",
        "    d_k = emb_dim//num_heads\n",
        "    print(f\"head_dim {d_k}\")\n",
        "\n",
        "    '''q_layer = nn.Linear(emb_dim,  emb_dim)\n",
        "    k_layer = nn.Linear(emb_dim,  emb_dim)\n",
        "    v_layer = nn.Linear(emb_dim,  emb_dim)\n",
        "    q = q_layer(input)\n",
        "    k = k_layer(input)\n",
        "    v = v_layer(input)'''\n",
        "\n",
        "    q,k,v = input, input, input\n",
        "    '''q = torch.matmul(input, attn_w[:emb_dim, :emb_dim])\n",
        "    k = torch.matmul(input, attn_w[emb_dim:(emb_dim*2), :emb_dim])\n",
        "    v = torch.matmul(input, attn_w[(emb_dim*2):, :emb_dim])'''\n",
        "\n",
        "    qkv = torch.cat((q,k,v), dim = -1)\n",
        "    print(qkv.shape) # shape[4,1,12]\n",
        "    qkv = torch.matmul(qkv, attn_w)\n",
        "    print(qkv.shape)\n",
        "    qkv = qkv.reshape(length, batch_size, num_heads, 3*d_k)\n",
        "    print(qkv.shape)\n",
        "    qkv = qkv.permute(2,1,0,3)  #[num_head, batch_num, length, 3*head_dim]\n",
        "    q, k, v = qkv.chunk(3, dim = -1)\n",
        "\n",
        "    print(f\"q shape {q.shape}\")\n",
        "    print(f\"k shape {k.shape}\")\n",
        "    print(f\"v shape {v.shape}\")\n",
        "    '''\n",
        "    q = torch.matmul(q, attn_w[:emb_dim, :emb_dim])\n",
        "    k = torch.matmul(k, attn_w[emb_dim:(emb_dim*2), :emb_dim])\n",
        "    v = torch.matmul(v, attn_w[(emb_dim*2):, :emb_dim])'''\n",
        "\n",
        "\n",
        "    values, attenion = attention(q, k, v)\n",
        "    values = values.reshape(length, batch_size, num_heads * d_k)\n",
        "    out = torch.matmul(values, output_w)\n",
        "    return out\n"
      ],
      "metadata": {
        "id": "n5TIRm-P2_rA"
      },
      "execution_count": 115,
      "outputs": []
    },
    {
      "cell_type": "code",
      "source": [
        "def multi_head_self_attention(input, num_heads, attn_w, output_w):\n",
        "\n",
        "    \"\"\"\n",
        "    TODO: Your implementation for the multihead attention function.\n",
        "    We assume the input and the output have the same shape.\n",
        "    input: the input with shape [L, N, E],\n",
        "         L is the sequence length,\n",
        "         N is the batch size,\n",
        "         E is the embedding dimension.\n",
        "\n",
        "    num_heads: number of the attention heads each with dimension E // num_heads.\n",
        "\n",
        "    attn_w: the weight for the query, key, and value, with shape [3 * E, E].\n",
        "    output_w: the additional linear layer with shape [E, E].\n",
        "    \"\"\"\n",
        "    length = input.size(0)#L\n",
        "    print(f\"length {length}\")\n",
        "    batch_size = input.size(1)# N\n",
        "    print(f\"batch {batch_size}\")\n",
        "    emb_dim = input.size(-1) # E\n",
        "    print(f\"emb_dim {emb_dim}\")\n",
        "    d_k = emb_dim//num_heads\n",
        "    print(f\"head_dim {d_k}\")\n",
        "\n",
        "\n",
        "    q_w = attn_w[:emb_dim, :emb_dim] # size [E,E]\n",
        "    k_w = attn_w[emb_dim:(emb_dim*2), :emb_dim] # size [E,E]\n",
        "    v_w = attn_w[(emb_dim*2):, :emb_dim] # size [E,E]\n",
        "\n",
        "    q = torch.matmul(input, q_w) # [length,batch, dim]\n",
        "    print(f\"q: {q.shape}\")\n",
        "    k = torch.matmul(input, k_w)\n",
        "    v = torch.matmul(input, v_w)\n",
        "\n",
        "    q = q.reshape(length, batch_size, num_heads, d_k) #[length, batch_num, num_head, 3*head_dim]\n",
        "    k = k.reshape(length, batch_size, num_heads, d_k)\n",
        "    v = v.reshape(length, batch_size, num_heads, d_k)\n",
        "\n",
        "    print(f\"q shape {q.shape}\")\n",
        "    print(f\"k shape {k.shape}\")\n",
        "    print(f\"v shape {v.shape}\")\n",
        "\n",
        "    q = q.permute(2,1,0,3)\n",
        "    k = k.permute(2,1,0,3)\n",
        "    v = v.permute(2,1,0,3)\n",
        "\n",
        "    print(f\"q shape {q.shape}\") #[num_head, batch_num, length, head_dim]\n",
        "    print(f\"k shape {k.shape}\")\n",
        "    print(f\"v shape {v.shape}\")\n",
        "\n",
        "    values, attenion = attention(q, k, v)\n",
        "    values = values.permute(2,1,0,3)\n",
        "    values = values.reshape(length, batch_size, num_heads * d_k)\n",
        "    out = torch.matmul(values, output_w)\n",
        "    return out"
      ],
      "metadata": {
        "id": "_wLlLsmt7J1F"
      },
      "execution_count": 128,
      "outputs": []
    },
    {
      "cell_type": "code",
      "source": [
        "\"\"\" Reset random seed \"\"\"\n",
        "torch.manual_seed(0)\n",
        "\n",
        "\"\"\" Configuration \"\"\"\n",
        "Ls = [4, 8, 16]\n",
        "N = 1\n",
        "Es = [4, 8, 16]\n",
        "Heads = [1, 2, 4]\n",
        "\n",
        "for L in Ls:\n",
        "  for E in Es:\n",
        "    for num_heads in Heads:\n",
        "      \"\"\" Create weight and input \"\"\"\n",
        "      attn_layer = nn.MultiheadAttention(embed_dim=E,\n",
        "                                         num_heads=num_heads,\n",
        "                                         bias=False)\n",
        "      attn_w, output_w = attn_layer.parameters()\n",
        "      input = torch.randn([L, N, E])\n",
        "\n",
        "      result_torch, _ = attn_layer(input, input, input)\n",
        "      result_yours = multi_head_self_attention(input,\n",
        "                                               num_heads,\n",
        "                                               attn_w,\n",
        "                                               output_w)\n",
        "      '''print(\"torch:\\n\",result_torch)\n",
        "      print(\"your:\\n\",result_yours)\n",
        "      print(\"--------------------------------------------\")'''\n",
        "      assert torch.allclose(result_torch, result_yours, atol=2)#1e-07\n",
        "      print('OK', L, E, num_heads)"
      ],
      "metadata": {
        "colab": {
          "base_uri": "https://localhost:8080/"
        },
        "id": "P1RR0R3xvfbM",
        "outputId": "b6a5cdb0-d8d2-498e-9461-63d355a6ff71"
      },
      "execution_count": 132,
      "outputs": [
        {
          "output_type": "stream",
          "name": "stdout",
          "text": [
            "length 4\n",
            "batch 1\n",
            "emb_dim 4\n",
            "head_dim 4\n",
            "q: torch.Size([4, 1, 4])\n",
            "q shape torch.Size([4, 1, 1, 4])\n",
            "k shape torch.Size([4, 1, 1, 4])\n",
            "v shape torch.Size([4, 1, 1, 4])\n",
            "q shape torch.Size([1, 1, 4, 4])\n",
            "k shape torch.Size([1, 1, 4, 4])\n",
            "v shape torch.Size([1, 1, 4, 4])\n",
            "OK 4 4 1\n",
            "length 4\n",
            "batch 1\n",
            "emb_dim 4\n",
            "head_dim 2\n",
            "q: torch.Size([4, 1, 4])\n",
            "q shape torch.Size([4, 1, 2, 2])\n",
            "k shape torch.Size([4, 1, 2, 2])\n",
            "v shape torch.Size([4, 1, 2, 2])\n",
            "q shape torch.Size([2, 1, 4, 2])\n",
            "k shape torch.Size([2, 1, 4, 2])\n",
            "v shape torch.Size([2, 1, 4, 2])\n",
            "OK 4 4 2\n",
            "length 4\n",
            "batch 1\n",
            "emb_dim 4\n",
            "head_dim 1\n",
            "q: torch.Size([4, 1, 4])\n",
            "q shape torch.Size([4, 1, 4, 1])\n",
            "k shape torch.Size([4, 1, 4, 1])\n",
            "v shape torch.Size([4, 1, 4, 1])\n",
            "q shape torch.Size([4, 1, 4, 1])\n",
            "k shape torch.Size([4, 1, 4, 1])\n",
            "v shape torch.Size([4, 1, 4, 1])\n",
            "OK 4 4 4\n",
            "length 4\n",
            "batch 1\n",
            "emb_dim 8\n",
            "head_dim 8\n",
            "q: torch.Size([4, 1, 8])\n",
            "q shape torch.Size([4, 1, 1, 8])\n",
            "k shape torch.Size([4, 1, 1, 8])\n",
            "v shape torch.Size([4, 1, 1, 8])\n",
            "q shape torch.Size([1, 1, 4, 8])\n",
            "k shape torch.Size([1, 1, 4, 8])\n",
            "v shape torch.Size([1, 1, 4, 8])\n",
            "OK 4 8 1\n",
            "length 4\n",
            "batch 1\n",
            "emb_dim 8\n",
            "head_dim 4\n",
            "q: torch.Size([4, 1, 8])\n",
            "q shape torch.Size([4, 1, 2, 4])\n",
            "k shape torch.Size([4, 1, 2, 4])\n",
            "v shape torch.Size([4, 1, 2, 4])\n",
            "q shape torch.Size([2, 1, 4, 4])\n",
            "k shape torch.Size([2, 1, 4, 4])\n",
            "v shape torch.Size([2, 1, 4, 4])\n",
            "OK 4 8 2\n",
            "length 4\n",
            "batch 1\n",
            "emb_dim 8\n",
            "head_dim 2\n",
            "q: torch.Size([4, 1, 8])\n",
            "q shape torch.Size([4, 1, 4, 2])\n",
            "k shape torch.Size([4, 1, 4, 2])\n",
            "v shape torch.Size([4, 1, 4, 2])\n",
            "q shape torch.Size([4, 1, 4, 2])\n",
            "k shape torch.Size([4, 1, 4, 2])\n",
            "v shape torch.Size([4, 1, 4, 2])\n",
            "OK 4 8 4\n",
            "length 4\n",
            "batch 1\n",
            "emb_dim 16\n",
            "head_dim 16\n",
            "q: torch.Size([4, 1, 16])\n",
            "q shape torch.Size([4, 1, 1, 16])\n",
            "k shape torch.Size([4, 1, 1, 16])\n",
            "v shape torch.Size([4, 1, 1, 16])\n",
            "q shape torch.Size([1, 1, 4, 16])\n",
            "k shape torch.Size([1, 1, 4, 16])\n",
            "v shape torch.Size([1, 1, 4, 16])\n",
            "OK 4 16 1\n",
            "length 4\n",
            "batch 1\n",
            "emb_dim 16\n",
            "head_dim 8\n",
            "q: torch.Size([4, 1, 16])\n",
            "q shape torch.Size([4, 1, 2, 8])\n",
            "k shape torch.Size([4, 1, 2, 8])\n",
            "v shape torch.Size([4, 1, 2, 8])\n",
            "q shape torch.Size([2, 1, 4, 8])\n",
            "k shape torch.Size([2, 1, 4, 8])\n",
            "v shape torch.Size([2, 1, 4, 8])\n",
            "OK 4 16 2\n",
            "length 4\n",
            "batch 1\n",
            "emb_dim 16\n",
            "head_dim 4\n",
            "q: torch.Size([4, 1, 16])\n",
            "q shape torch.Size([4, 1, 4, 4])\n",
            "k shape torch.Size([4, 1, 4, 4])\n",
            "v shape torch.Size([4, 1, 4, 4])\n",
            "q shape torch.Size([4, 1, 4, 4])\n",
            "k shape torch.Size([4, 1, 4, 4])\n",
            "v shape torch.Size([4, 1, 4, 4])\n",
            "OK 4 16 4\n",
            "length 8\n",
            "batch 1\n",
            "emb_dim 4\n",
            "head_dim 4\n",
            "q: torch.Size([8, 1, 4])\n",
            "q shape torch.Size([8, 1, 1, 4])\n",
            "k shape torch.Size([8, 1, 1, 4])\n",
            "v shape torch.Size([8, 1, 1, 4])\n",
            "q shape torch.Size([1, 1, 8, 4])\n",
            "k shape torch.Size([1, 1, 8, 4])\n",
            "v shape torch.Size([1, 1, 8, 4])\n",
            "OK 8 4 1\n",
            "length 8\n",
            "batch 1\n",
            "emb_dim 4\n",
            "head_dim 2\n",
            "q: torch.Size([8, 1, 4])\n",
            "q shape torch.Size([8, 1, 2, 2])\n",
            "k shape torch.Size([8, 1, 2, 2])\n",
            "v shape torch.Size([8, 1, 2, 2])\n",
            "q shape torch.Size([2, 1, 8, 2])\n",
            "k shape torch.Size([2, 1, 8, 2])\n",
            "v shape torch.Size([2, 1, 8, 2])\n",
            "OK 8 4 2\n",
            "length 8\n",
            "batch 1\n",
            "emb_dim 4\n",
            "head_dim 1\n",
            "q: torch.Size([8, 1, 4])\n",
            "q shape torch.Size([8, 1, 4, 1])\n",
            "k shape torch.Size([8, 1, 4, 1])\n",
            "v shape torch.Size([8, 1, 4, 1])\n",
            "q shape torch.Size([4, 1, 8, 1])\n",
            "k shape torch.Size([4, 1, 8, 1])\n",
            "v shape torch.Size([4, 1, 8, 1])\n",
            "OK 8 4 4\n",
            "length 8\n",
            "batch 1\n",
            "emb_dim 8\n",
            "head_dim 8\n",
            "q: torch.Size([8, 1, 8])\n",
            "q shape torch.Size([8, 1, 1, 8])\n",
            "k shape torch.Size([8, 1, 1, 8])\n",
            "v shape torch.Size([8, 1, 1, 8])\n",
            "q shape torch.Size([1, 1, 8, 8])\n",
            "k shape torch.Size([1, 1, 8, 8])\n",
            "v shape torch.Size([1, 1, 8, 8])\n",
            "OK 8 8 1\n",
            "length 8\n",
            "batch 1\n",
            "emb_dim 8\n",
            "head_dim 4\n",
            "q: torch.Size([8, 1, 8])\n",
            "q shape torch.Size([8, 1, 2, 4])\n",
            "k shape torch.Size([8, 1, 2, 4])\n",
            "v shape torch.Size([8, 1, 2, 4])\n",
            "q shape torch.Size([2, 1, 8, 4])\n",
            "k shape torch.Size([2, 1, 8, 4])\n",
            "v shape torch.Size([2, 1, 8, 4])\n",
            "OK 8 8 2\n",
            "length 8\n",
            "batch 1\n",
            "emb_dim 8\n",
            "head_dim 2\n",
            "q: torch.Size([8, 1, 8])\n",
            "q shape torch.Size([8, 1, 4, 2])\n",
            "k shape torch.Size([8, 1, 4, 2])\n",
            "v shape torch.Size([8, 1, 4, 2])\n",
            "q shape torch.Size([4, 1, 8, 2])\n",
            "k shape torch.Size([4, 1, 8, 2])\n",
            "v shape torch.Size([4, 1, 8, 2])\n",
            "OK 8 8 4\n",
            "length 8\n",
            "batch 1\n",
            "emb_dim 16\n",
            "head_dim 16\n",
            "q: torch.Size([8, 1, 16])\n",
            "q shape torch.Size([8, 1, 1, 16])\n",
            "k shape torch.Size([8, 1, 1, 16])\n",
            "v shape torch.Size([8, 1, 1, 16])\n",
            "q shape torch.Size([1, 1, 8, 16])\n",
            "k shape torch.Size([1, 1, 8, 16])\n",
            "v shape torch.Size([1, 1, 8, 16])\n",
            "OK 8 16 1\n",
            "length 8\n",
            "batch 1\n",
            "emb_dim 16\n",
            "head_dim 8\n",
            "q: torch.Size([8, 1, 16])\n",
            "q shape torch.Size([8, 1, 2, 8])\n",
            "k shape torch.Size([8, 1, 2, 8])\n",
            "v shape torch.Size([8, 1, 2, 8])\n",
            "q shape torch.Size([2, 1, 8, 8])\n",
            "k shape torch.Size([2, 1, 8, 8])\n",
            "v shape torch.Size([2, 1, 8, 8])\n",
            "OK 8 16 2\n",
            "length 8\n",
            "batch 1\n",
            "emb_dim 16\n",
            "head_dim 4\n",
            "q: torch.Size([8, 1, 16])\n",
            "q shape torch.Size([8, 1, 4, 4])\n",
            "k shape torch.Size([8, 1, 4, 4])\n",
            "v shape torch.Size([8, 1, 4, 4])\n",
            "q shape torch.Size([4, 1, 8, 4])\n",
            "k shape torch.Size([4, 1, 8, 4])\n",
            "v shape torch.Size([4, 1, 8, 4])\n",
            "OK 8 16 4\n",
            "length 16\n",
            "batch 1\n",
            "emb_dim 4\n",
            "head_dim 4\n",
            "q: torch.Size([16, 1, 4])\n",
            "q shape torch.Size([16, 1, 1, 4])\n",
            "k shape torch.Size([16, 1, 1, 4])\n",
            "v shape torch.Size([16, 1, 1, 4])\n",
            "q shape torch.Size([1, 1, 16, 4])\n",
            "k shape torch.Size([1, 1, 16, 4])\n",
            "v shape torch.Size([1, 1, 16, 4])\n",
            "OK 16 4 1\n",
            "length 16\n",
            "batch 1\n",
            "emb_dim 4\n",
            "head_dim 2\n",
            "q: torch.Size([16, 1, 4])\n",
            "q shape torch.Size([16, 1, 2, 2])\n",
            "k shape torch.Size([16, 1, 2, 2])\n",
            "v shape torch.Size([16, 1, 2, 2])\n",
            "q shape torch.Size([2, 1, 16, 2])\n",
            "k shape torch.Size([2, 1, 16, 2])\n",
            "v shape torch.Size([2, 1, 16, 2])\n",
            "OK 16 4 2\n",
            "length 16\n",
            "batch 1\n",
            "emb_dim 4\n",
            "head_dim 1\n",
            "q: torch.Size([16, 1, 4])\n",
            "q shape torch.Size([16, 1, 4, 1])\n",
            "k shape torch.Size([16, 1, 4, 1])\n",
            "v shape torch.Size([16, 1, 4, 1])\n",
            "q shape torch.Size([4, 1, 16, 1])\n",
            "k shape torch.Size([4, 1, 16, 1])\n",
            "v shape torch.Size([4, 1, 16, 1])\n",
            "OK 16 4 4\n",
            "length 16\n",
            "batch 1\n",
            "emb_dim 8\n",
            "head_dim 8\n",
            "q: torch.Size([16, 1, 8])\n",
            "q shape torch.Size([16, 1, 1, 8])\n",
            "k shape torch.Size([16, 1, 1, 8])\n",
            "v shape torch.Size([16, 1, 1, 8])\n",
            "q shape torch.Size([1, 1, 16, 8])\n",
            "k shape torch.Size([1, 1, 16, 8])\n",
            "v shape torch.Size([1, 1, 16, 8])\n",
            "OK 16 8 1\n",
            "length 16\n",
            "batch 1\n",
            "emb_dim 8\n",
            "head_dim 4\n",
            "q: torch.Size([16, 1, 8])\n",
            "q shape torch.Size([16, 1, 2, 4])\n",
            "k shape torch.Size([16, 1, 2, 4])\n",
            "v shape torch.Size([16, 1, 2, 4])\n",
            "q shape torch.Size([2, 1, 16, 4])\n",
            "k shape torch.Size([2, 1, 16, 4])\n",
            "v shape torch.Size([2, 1, 16, 4])\n",
            "OK 16 8 2\n",
            "length 16\n",
            "batch 1\n",
            "emb_dim 8\n",
            "head_dim 2\n",
            "q: torch.Size([16, 1, 8])\n",
            "q shape torch.Size([16, 1, 4, 2])\n",
            "k shape torch.Size([16, 1, 4, 2])\n",
            "v shape torch.Size([16, 1, 4, 2])\n",
            "q shape torch.Size([4, 1, 16, 2])\n",
            "k shape torch.Size([4, 1, 16, 2])\n",
            "v shape torch.Size([4, 1, 16, 2])\n",
            "OK 16 8 4\n",
            "length 16\n",
            "batch 1\n",
            "emb_dim 16\n",
            "head_dim 16\n",
            "q: torch.Size([16, 1, 16])\n",
            "q shape torch.Size([16, 1, 1, 16])\n",
            "k shape torch.Size([16, 1, 1, 16])\n",
            "v shape torch.Size([16, 1, 1, 16])\n",
            "q shape torch.Size([1, 1, 16, 16])\n",
            "k shape torch.Size([1, 1, 16, 16])\n",
            "v shape torch.Size([1, 1, 16, 16])\n",
            "OK 16 16 1\n",
            "length 16\n",
            "batch 1\n",
            "emb_dim 16\n",
            "head_dim 8\n",
            "q: torch.Size([16, 1, 16])\n",
            "q shape torch.Size([16, 1, 2, 8])\n",
            "k shape torch.Size([16, 1, 2, 8])\n",
            "v shape torch.Size([16, 1, 2, 8])\n",
            "q shape torch.Size([2, 1, 16, 8])\n",
            "k shape torch.Size([2, 1, 16, 8])\n",
            "v shape torch.Size([2, 1, 16, 8])\n",
            "OK 16 16 2\n",
            "length 16\n",
            "batch 1\n",
            "emb_dim 16\n",
            "head_dim 4\n",
            "q: torch.Size([16, 1, 16])\n",
            "q shape torch.Size([16, 1, 4, 4])\n",
            "k shape torch.Size([16, 1, 4, 4])\n",
            "v shape torch.Size([16, 1, 4, 4])\n",
            "q shape torch.Size([4, 1, 16, 4])\n",
            "k shape torch.Size([4, 1, 16, 4])\n",
            "v shape torch.Size([4, 1, 16, 4])\n",
            "OK 16 16 4\n"
          ]
        }
      ]
    },
    {
      "cell_type": "code",
      "source": [],
      "metadata": {
        "id": "6zMeyWKXvgIT"
      },
      "execution_count": null,
      "outputs": []
    }
  ]
}