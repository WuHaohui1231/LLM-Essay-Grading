{
  "nbformat": 4,
  "nbformat_minor": 0,
  "metadata": {
    "colab": {
      "provenance": []
    },
    "kernelspec": {
      "name": "python3",
      "display_name": "Python 3"
    },
    "language_info": {
      "name": "python"
    }
  },
  "cells": [
    {
      "cell_type": "code",
      "source": [
        "import torch.nn as nn\n",
        "import torch.nn.functional as F\n",
        "import torch\n",
        "import numpy as np\n",
        "import math"
      ],
      "metadata": {
        "id": "vNbCw-p9Umn-"
      },
      "execution_count": 12,
      "outputs": []
    },
    {
      "cell_type": "code",
      "source": [
        "def attention(query, key, value, mask = None):\n",
        "    d_k = query.size(-1)\n",
        "    scaled = torch.matmul(query, key.transpose(-2,-1))/math.sqrt(d_k)\n",
        "    attention = F.softmax(scaled, dim = -1)\n",
        "    return torch.matmul(attention, value), attention"
      ],
      "metadata": {
        "id": "196BAYYaUt8N"
      },
      "execution_count": 13,
      "outputs": []
    },
    {
      "cell_type": "code",
      "source": [
        "def multi_head_self_attention(input, num_heads, attn_w, output_w):\n",
        "\n",
        "    \"\"\"\n",
        "    TODO: Your implementation for the multihead attention function.\n",
        "    We assume the input and the output have the same shape.\n",
        "    input: the input with shape [L, N, E],\n",
        "         L is the sequence length,\n",
        "         N is the batch size,\n",
        "         E is the embedding dimension.\n",
        "\n",
        "    num_heads: number of the attention heads each with dimension E // num_heads.\n",
        "\n",
        "    attn_w: the weight for the query, key, and value, with shape [3 * E, E].\n",
        "    output_w: the additional linear layer with shape [E, E].\n",
        "    \"\"\"\n",
        "    length = input.size(0)#L\n",
        "    batch_size = input.size(1)# N\n",
        "    emb_dim = input.size(-1) # E\n",
        "    d_k = emb_dim//num_heads\n",
        "\n",
        "\n",
        "    q_w = attn_w[:emb_dim, :emb_dim] # size [E,E]\n",
        "    k_w = attn_w[emb_dim:(emb_dim*2), :emb_dim] # size [E,E]\n",
        "    v_w = attn_w[(emb_dim*2):, :emb_dim] # size [E,E]\n",
        "\n",
        "    q = torch.matmul(input, q_w.T) # [length,batch, dim]\n",
        "    k = torch.matmul(input, k_w.T)\n",
        "    v = torch.matmul(input, v_w.T)\n",
        "\n",
        "    q = q.reshape(length, batch_size, num_heads, d_k) #[length, batch_num, num_head, 3*head_dim]\n",
        "    k = k.reshape(length, batch_size, num_heads, d_k)\n",
        "    v = v.reshape(length, batch_size, num_heads, d_k)\n",
        "\n",
        "    q = q.permute(2,1,0,3)#[num_head, batch_num, length, head_dim]\n",
        "    k = k.permute(2,1,0,3)\n",
        "    v = v.permute(2,1,0,3)\n",
        "\n",
        "    values, attenion = attention(q, k, v)\n",
        "    values = values.permute(2,1,0,3)\n",
        "    values = values.reshape(length, batch_size, num_heads * d_k)\n",
        "    out = torch.matmul(values, output_w.T)\n",
        "    return out"
      ],
      "metadata": {
        "id": "P67NfhQ2C_ZK"
      },
      "execution_count": 18,
      "outputs": []
    },
    {
      "cell_type": "code",
      "source": [
        "\"\"\" Reset random seed \"\"\"\n",
        "torch.manual_seed(0)\n",
        "\n",
        "\"\"\" Configuration \"\"\"\n",
        "Ls = [4, 8, 16]\n",
        "N = 1\n",
        "Es = [4, 8, 16]\n",
        "Heads = [1, 2, 4]\n",
        "\n",
        "for L in Ls:\n",
        "  for E in Es:\n",
        "    for num_heads in Heads:\n",
        "      \"\"\" Create weight and input \"\"\"\n",
        "      attn_layer = nn.MultiheadAttention(embed_dim=E,\n",
        "                                         num_heads=num_heads,\n",
        "                                         bias=False)\n",
        "      attn_w, output_w = attn_layer.parameters()\n",
        "      input = torch.randn([L, N, E])\n",
        "\n",
        "      result_torch, _ = attn_layer(input, input, input)\n",
        "      result_yours = multi_head_self_attention(input,\n",
        "                                               num_heads,\n",
        "                                               attn_w,\n",
        "                                               output_w)\n",
        "      assert torch.allclose(result_torch, result_yours, atol=1e-07)\n",
        "      print('OK', L, E, num_heads)"
      ],
      "metadata": {
        "colab": {
          "base_uri": "https://localhost:8080/"
        },
        "id": "cYXs3G8KDKod",
        "outputId": "b1e11d88-d4fb-40c0-a043-393c669cbfd9"
      },
      "execution_count": 19,
      "outputs": [
        {
          "output_type": "stream",
          "name": "stdout",
          "text": [
            "OK 4 4 1\n",
            "OK 4 4 2\n",
            "OK 4 4 4\n",
            "OK 4 8 1\n",
            "OK 4 8 2\n",
            "OK 4 8 4\n",
            "OK 4 16 1\n",
            "OK 4 16 2\n",
            "OK 4 16 4\n",
            "OK 8 4 1\n",
            "OK 8 4 2\n",
            "OK 8 4 4\n",
            "OK 8 8 1\n",
            "OK 8 8 2\n",
            "OK 8 8 4\n",
            "OK 8 16 1\n",
            "OK 8 16 2\n",
            "OK 8 16 4\n",
            "OK 16 4 1\n",
            "OK 16 4 2\n",
            "OK 16 4 4\n",
            "OK 16 8 1\n",
            "OK 16 8 2\n",
            "OK 16 8 4\n",
            "OK 16 16 1\n",
            "OK 16 16 2\n",
            "OK 16 16 4\n"
          ]
        }
      ]
    },
    {
      "cell_type": "code",
      "source": [],
      "metadata": {
        "id": "dPh8kCo_J2cT"
      },
      "execution_count": null,
      "outputs": []
    }
  ]
}